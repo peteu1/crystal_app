{
 "cells": [
  {
   "cell_type": "code",
   "execution_count": 1,
   "metadata": {},
   "outputs": [],
   "source": [
    "import pandas as pd\n",
    "import numpy as np"
   ]
  },
  {
   "cell_type": "markdown",
   "metadata": {},
   "source": [
    "### Metaphysical Description"
   ]
  },
  {
   "cell_type": "code",
   "execution_count": 2,
   "metadata": {},
   "outputs": [],
   "source": [
    "# Get metaphysical description\n",
    "fname = \"data/input/meanings.csv\"\n",
    "meanings = pd.read_csv(fname)[['stone', 'description']]"
   ]
  },
  {
   "cell_type": "code",
   "execution_count": 3,
   "metadata": {},
   "outputs": [
    {
     "name": "stdout",
     "output_type": "stream",
     "text": [
      "(100, 2)\n"
     ]
    },
    {
     "data": {
      "text/html": [
       "<div>\n",
       "<style scoped>\n",
       "    .dataframe tbody tr th:only-of-type {\n",
       "        vertical-align: middle;\n",
       "    }\n",
       "\n",
       "    .dataframe tbody tr th {\n",
       "        vertical-align: top;\n",
       "    }\n",
       "\n",
       "    .dataframe thead th {\n",
       "        text-align: right;\n",
       "    }\n",
       "</style>\n",
       "<table border=\"1\" class=\"dataframe\">\n",
       "  <thead>\n",
       "    <tr style=\"text-align: right;\">\n",
       "      <th></th>\n",
       "      <th>stone</th>\n",
       "      <th>description</th>\n",
       "    </tr>\n",
       "  </thead>\n",
       "  <tbody>\n",
       "    <tr>\n",
       "      <th>0</th>\n",
       "      <td>agate</td>\n",
       "      <td>Agates are earth stones. Overall, agates are g...</td>\n",
       "    </tr>\n",
       "    <tr>\n",
       "      <th>1</th>\n",
       "      <td>alexandrite</td>\n",
       "      <td>Rather than just bring you joy, Alexandrite he...</td>\n",
       "    </tr>\n",
       "    <tr>\n",
       "      <th>2</th>\n",
       "      <td>amazonite</td>\n",
       "      <td>Amazonite helps to harmonize apparently differ...</td>\n",
       "    </tr>\n",
       "    <tr>\n",
       "      <th>3</th>\n",
       "      <td>amber</td>\n",
       "      <td>Amber carries the energy of the sun, warmth, a...</td>\n",
       "    </tr>\n",
       "    <tr>\n",
       "      <th>4</th>\n",
       "      <td>amethyst</td>\n",
       "      <td>Amethyst is a powerhouse stone. It vibrates at...</td>\n",
       "    </tr>\n",
       "  </tbody>\n",
       "</table>\n",
       "</div>"
      ],
      "text/plain": [
       "         stone                                        description\n",
       "0        agate  Agates are earth stones. Overall, agates are g...\n",
       "1  alexandrite  Rather than just bring you joy, Alexandrite he...\n",
       "2    amazonite  Amazonite helps to harmonize apparently differ...\n",
       "3        amber  Amber carries the energy of the sun, warmth, a...\n",
       "4     amethyst  Amethyst is a powerhouse stone. It vibrates at..."
      ]
     },
     "execution_count": 3,
     "metadata": {},
     "output_type": "execute_result"
    }
   ],
   "source": [
    "print(meanings.shape)\n",
    "meanings.head()"
   ]
  },
  {
   "cell_type": "markdown",
   "metadata": {},
   "source": [
    "### Hardness"
   ]
  },
  {
   "cell_type": "code",
   "execution_count": 4,
   "metadata": {},
   "outputs": [],
   "source": [
    "# Get hardness\n",
    "fname = \"data/input/hardness.csv\"\n",
    "hardness = pd.read_csv(fname)"
   ]
  },
  {
   "cell_type": "code",
   "execution_count": 5,
   "metadata": {
    "scrolled": true
   },
   "outputs": [
    {
     "name": "stdout",
     "output_type": "stream",
     "text": [
      "(346, 2)\n"
     ]
    },
    {
     "data": {
      "text/html": [
       "<div>\n",
       "<style scoped>\n",
       "    .dataframe tbody tr th:only-of-type {\n",
       "        vertical-align: middle;\n",
       "    }\n",
       "\n",
       "    .dataframe tbody tr th {\n",
       "        vertical-align: top;\n",
       "    }\n",
       "\n",
       "    .dataframe thead th {\n",
       "        text-align: right;\n",
       "    }\n",
       "</style>\n",
       "<table border=\"1\" class=\"dataframe\">\n",
       "  <thead>\n",
       "    <tr style=\"text-align: right;\">\n",
       "      <th></th>\n",
       "      <th>stone</th>\n",
       "      <th>hardness</th>\n",
       "    </tr>\n",
       "  </thead>\n",
       "  <tbody>\n",
       "    <tr>\n",
       "      <th>0</th>\n",
       "      <td>diamond</td>\n",
       "      <td>10.0</td>\n",
       "    </tr>\n",
       "    <tr>\n",
       "      <th>1</th>\n",
       "      <td>synth. moissanit</td>\n",
       "      <td>9.5</td>\n",
       "    </tr>\n",
       "    <tr>\n",
       "      <th>2</th>\n",
       "      <td>sapphire</td>\n",
       "      <td>9.0</td>\n",
       "    </tr>\n",
       "    <tr>\n",
       "      <th>3</th>\n",
       "      <td>ruby</td>\n",
       "      <td>9.0</td>\n",
       "    </tr>\n",
       "    <tr>\n",
       "      <th>4</th>\n",
       "      <td>yag</td>\n",
       "      <td>8.5</td>\n",
       "    </tr>\n",
       "  </tbody>\n",
       "</table>\n",
       "</div>"
      ],
      "text/plain": [
       "              stone  hardness\n",
       "0           diamond      10.0\n",
       "1  synth. moissanit       9.5\n",
       "2          sapphire       9.0\n",
       "3              ruby       9.0\n",
       "4               yag       8.5"
      ]
     },
     "execution_count": 5,
     "metadata": {},
     "output_type": "execute_result"
    }
   ],
   "source": [
    "print(hardness.shape)\n",
    "hardness.head()"
   ]
  },
  {
   "cell_type": "code",
   "execution_count": 6,
   "metadata": {},
   "outputs": [],
   "source": [
    "# merge data\n",
    "df = meanings.merge(hardness, on='stone', how='outer')\n",
    "\n",
    "#df = df.merge(hardness2, on='stone', how='left') # keeping just 100 stones w meanings\n",
    "#df['hardness'] = [i.hardness_y if i.hardness_y > 0.0 else i.hardness_x for _, i in df.iterrows()]\n",
    "#df = df[[\"stone\", \"description\", \"hardness\", \"diaphaneity\", \"refractive_idx\", \"density\"]]\n",
    "#df = df[df.hardness > 0]"
   ]
  },
  {
   "cell_type": "code",
   "execution_count": 7,
   "metadata": {},
   "outputs": [
    {
     "name": "stdout",
     "output_type": "stream",
     "text": [
      "(394, 3)\n"
     ]
    },
    {
     "data": {
      "text/html": [
       "<div>\n",
       "<style scoped>\n",
       "    .dataframe tbody tr th:only-of-type {\n",
       "        vertical-align: middle;\n",
       "    }\n",
       "\n",
       "    .dataframe tbody tr th {\n",
       "        vertical-align: top;\n",
       "    }\n",
       "\n",
       "    .dataframe thead th {\n",
       "        text-align: right;\n",
       "    }\n",
       "</style>\n",
       "<table border=\"1\" class=\"dataframe\">\n",
       "  <thead>\n",
       "    <tr style=\"text-align: right;\">\n",
       "      <th></th>\n",
       "      <th>stone</th>\n",
       "      <th>description</th>\n",
       "      <th>hardness</th>\n",
       "    </tr>\n",
       "  </thead>\n",
       "  <tbody>\n",
       "    <tr>\n",
       "      <th>0</th>\n",
       "      <td>agate</td>\n",
       "      <td>Agates are earth stones. Overall, agates are g...</td>\n",
       "      <td>NaN</td>\n",
       "    </tr>\n",
       "    <tr>\n",
       "      <th>1</th>\n",
       "      <td>alexandrite</td>\n",
       "      <td>Rather than just bring you joy, Alexandrite he...</td>\n",
       "      <td>8.50</td>\n",
       "    </tr>\n",
       "    <tr>\n",
       "      <th>2</th>\n",
       "      <td>amazonite</td>\n",
       "      <td>Amazonite helps to harmonize apparently differ...</td>\n",
       "      <td>6.25</td>\n",
       "    </tr>\n",
       "    <tr>\n",
       "      <th>3</th>\n",
       "      <td>amber</td>\n",
       "      <td>Amber carries the energy of the sun, warmth, a...</td>\n",
       "      <td>2.25</td>\n",
       "    </tr>\n",
       "    <tr>\n",
       "      <th>4</th>\n",
       "      <td>amethyst</td>\n",
       "      <td>Amethyst is a powerhouse stone. It vibrates at...</td>\n",
       "      <td>7.00</td>\n",
       "    </tr>\n",
       "  </tbody>\n",
       "</table>\n",
       "</div>"
      ],
      "text/plain": [
       "         stone                                        description  hardness\n",
       "0        agate  Agates are earth stones. Overall, agates are g...       NaN\n",
       "1  alexandrite  Rather than just bring you joy, Alexandrite he...      8.50\n",
       "2    amazonite  Amazonite helps to harmonize apparently differ...      6.25\n",
       "3        amber  Amber carries the energy of the sun, warmth, a...      2.25\n",
       "4     amethyst  Amethyst is a powerhouse stone. It vibrates at...      7.00"
      ]
     },
     "execution_count": 7,
     "metadata": {},
     "output_type": "execute_result"
    }
   ],
   "source": [
    "print(df.shape)\n",
    "df.head()"
   ]
  },
  {
   "cell_type": "markdown",
   "metadata": {},
   "source": [
    "### Chakras!"
   ]
  },
  {
   "cell_type": "code",
   "execution_count": 8,
   "metadata": {},
   "outputs": [],
   "source": [
    "fname_chakra = \"data/input/chakra_data.csv\"\n",
    "chakras_ref = pd.read_csv(fname_chakra)\n",
    "chakras_ref = chakras_ref.sort_values('Position').reset_index(drop=True)\n",
    "# make crystals a list\n",
    "chakras_ref.Crystals = [i.split('; ') for i in chakras_ref.Crystals]"
   ]
  },
  {
   "cell_type": "code",
   "execution_count": 9,
   "metadata": {},
   "outputs": [],
   "source": [
    "# Add stones from chakras to chakra_ref\n",
    "fname_chakra_stones = \"data/input/chakra_stones.csv\"\n",
    "chakras = pd.read_csv(fname_chakra_stones)\n",
    "chakras.chakra = [[int(j) for j in i.split(\" & \")] for i in chakras.chakra]\n",
    "for idx, (stone, chakra) in chakras.iterrows():\n",
    "    for k in chakra:\n",
    "        chakras_ref.iloc[k-1,7].append(stone)\n",
    "# remove duplicates\n",
    "chakras_ref.Crystals = [list(set(i)) for i in chakras_ref.Crystals]\n",
    "chakras_ref.Properties = [list(set(i.split(\"; \"))) for i in chakras_ref.Properties]"
   ]
  },
  {
   "cell_type": "code",
   "execution_count": 10,
   "metadata": {},
   "outputs": [
    {
     "data": {
      "text/html": [
       "<div>\n",
       "<style scoped>\n",
       "    .dataframe tbody tr th:only-of-type {\n",
       "        vertical-align: middle;\n",
       "    }\n",
       "\n",
       "    .dataframe tbody tr th {\n",
       "        vertical-align: top;\n",
       "    }\n",
       "\n",
       "    .dataframe thead th {\n",
       "        text-align: right;\n",
       "    }\n",
       "</style>\n",
       "<table border=\"1\" class=\"dataframe\">\n",
       "  <thead>\n",
       "    <tr style=\"text-align: right;\">\n",
       "      <th></th>\n",
       "      <th>Name_Eng</th>\n",
       "      <th>Position</th>\n",
       "      <th>Body_Location</th>\n",
       "      <th>Name_San</th>\n",
       "      <th>Color</th>\n",
       "      <th>Mantra</th>\n",
       "      <th>Properties</th>\n",
       "      <th>Crystals</th>\n",
       "      <th>Resonant_Frequency_Hz</th>\n",
       "      <th>Sound</th>\n",
       "      <th>Note</th>\n",
       "      <th>Translation_San</th>\n",
       "    </tr>\n",
       "  </thead>\n",
       "  <tbody>\n",
       "    <tr>\n",
       "      <th>0</th>\n",
       "      <td>Root</td>\n",
       "      <td>1</td>\n",
       "      <td>spine; base of tailbone</td>\n",
       "      <td>Muladhara</td>\n",
       "      <td>Red</td>\n",
       "      <td>I am</td>\n",
       "      <td>[comfort, security, protection, safety, ground...</td>\n",
       "      <td>[black tourmaline, garnet, crystal quartz, obs...</td>\n",
       "      <td>432</td>\n",
       "      <td>Ay-Way</td>\n",
       "      <td>A</td>\n",
       "      <td>base or support of root</td>\n",
       "    </tr>\n",
       "  </tbody>\n",
       "</table>\n",
       "</div>"
      ],
      "text/plain": [
       "  Name_Eng  Position            Body_Location   Name_San Color Mantra  \\\n",
       "0     Root         1  spine; base of tailbone  Muladhara   Red   I am   \n",
       "\n",
       "                                          Properties  \\\n",
       "0  [comfort, security, protection, safety, ground...   \n",
       "\n",
       "                                            Crystals  Resonant_Frequency_Hz  \\\n",
       "0  [black tourmaline, garnet, crystal quartz, obs...                    432   \n",
       "\n",
       "    Sound Note          Translation_San  \n",
       "0  Ay-Way    A  base or support of root  "
      ]
     },
     "execution_count": 10,
     "metadata": {},
     "output_type": "execute_result"
    }
   ],
   "source": [
    "chakras_ref[:1]"
   ]
  },
  {
   "cell_type": "code",
   "execution_count": 11,
   "metadata": {},
   "outputs": [],
   "source": [
    "# Add stones from chakras_ref to chakras\n",
    "for idx, i in chakras_ref.iterrows():\n",
    "    for j in i[7]:\n",
    "        p = chakras.chakra[chakras.stone == j]\n",
    "        if len(p):\n",
    "            chakras.iloc[p.index[0], 1].append(i[1])\n",
    "        else:\n",
    "            chakras = pd.concat([chakras, pd.DataFrame([{'stone':j, 'chakra':[i[1]]}])], ignore_index=True)\n",
    "chakras.chakra = [i for i in chakras.chakra]\n",
    "# remove duplicates\n",
    "chakras.chakra = [list(set(i)) for i in chakras.chakra]\n",
    "chakras = chakras.sort_values('stone').reset_index(drop=True)"
   ]
  },
  {
   "cell_type": "code",
   "execution_count": 12,
   "metadata": {},
   "outputs": [
    {
     "name": "stdout",
     "output_type": "stream",
     "text": [
      "(53, 2)\n"
     ]
    },
    {
     "data": {
      "text/html": [
       "<div>\n",
       "<style scoped>\n",
       "    .dataframe tbody tr th:only-of-type {\n",
       "        vertical-align: middle;\n",
       "    }\n",
       "\n",
       "    .dataframe tbody tr th {\n",
       "        vertical-align: top;\n",
       "    }\n",
       "\n",
       "    .dataframe thead th {\n",
       "        text-align: right;\n",
       "    }\n",
       "</style>\n",
       "<table border=\"1\" class=\"dataframe\">\n",
       "  <thead>\n",
       "    <tr style=\"text-align: right;\">\n",
       "      <th></th>\n",
       "      <th>stone</th>\n",
       "      <th>chakra</th>\n",
       "    </tr>\n",
       "  </thead>\n",
       "  <tbody>\n",
       "    <tr>\n",
       "      <th>0</th>\n",
       "      <td>amazonite</td>\n",
       "      <td>[4, 5]</td>\n",
       "    </tr>\n",
       "    <tr>\n",
       "      <th>1</th>\n",
       "      <td>amethyst</td>\n",
       "      <td>[6, 7]</td>\n",
       "    </tr>\n",
       "    <tr>\n",
       "      <th>2</th>\n",
       "      <td>ametrine</td>\n",
       "      <td>[6]</td>\n",
       "    </tr>\n",
       "    <tr>\n",
       "      <th>3</th>\n",
       "      <td>angelite</td>\n",
       "      <td>[5]</td>\n",
       "    </tr>\n",
       "    <tr>\n",
       "      <th>4</th>\n",
       "      <td>apatite</td>\n",
       "      <td>[5]</td>\n",
       "    </tr>\n",
       "  </tbody>\n",
       "</table>\n",
       "</div>"
      ],
      "text/plain": [
       "       stone  chakra\n",
       "0  amazonite  [4, 5]\n",
       "1   amethyst  [6, 7]\n",
       "2   ametrine     [6]\n",
       "3   angelite     [5]\n",
       "4    apatite     [5]"
      ]
     },
     "execution_count": 12,
     "metadata": {},
     "output_type": "execute_result"
    }
   ],
   "source": [
    "# This is how many stones I have chakra data for from \"chakra_data.csv\" and \"chakra_stones.csv\"\n",
    "print(chakras.shape)\n",
    "chakras.head()"
   ]
  },
  {
   "cell_type": "code",
   "execution_count": 32,
   "metadata": {},
   "outputs": [],
   "source": [
    "# add chakras to our original df\n",
    "df_full = chakras.merge(df, on='stone', how='outer')\n",
    "df_full = df_full.sort_values(\"stone\", ascending=True).reset_index(drop=True)\n",
    "#chakras_full = df_full[~df_full.chakra.isna()]"
   ]
  },
  {
   "cell_type": "code",
   "execution_count": 33,
   "metadata": {},
   "outputs": [
    {
     "name": "stdout",
     "output_type": "stream",
     "text": [
      "(408, 4)\n"
     ]
    },
    {
     "data": {
      "text/html": [
       "<div>\n",
       "<style scoped>\n",
       "    .dataframe tbody tr th:only-of-type {\n",
       "        vertical-align: middle;\n",
       "    }\n",
       "\n",
       "    .dataframe tbody tr th {\n",
       "        vertical-align: top;\n",
       "    }\n",
       "\n",
       "    .dataframe thead th {\n",
       "        text-align: right;\n",
       "    }\n",
       "</style>\n",
       "<table border=\"1\" class=\"dataframe\">\n",
       "  <thead>\n",
       "    <tr style=\"text-align: right;\">\n",
       "      <th></th>\n",
       "      <th>stone</th>\n",
       "      <th>chakra</th>\n",
       "      <th>description</th>\n",
       "      <th>hardness</th>\n",
       "    </tr>\n",
       "  </thead>\n",
       "  <tbody>\n",
       "    <tr>\n",
       "      <th>0</th>\n",
       "      <td>actinolite</td>\n",
       "      <td>NaN</td>\n",
       "      <td>NaN</td>\n",
       "      <td>5.75</td>\n",
       "    </tr>\n",
       "    <tr>\n",
       "      <th>1</th>\n",
       "      <td>adamite</td>\n",
       "      <td>NaN</td>\n",
       "      <td>NaN</td>\n",
       "      <td>3.50</td>\n",
       "    </tr>\n",
       "    <tr>\n",
       "      <th>2</th>\n",
       "      <td>aegirine</td>\n",
       "      <td>NaN</td>\n",
       "      <td>NaN</td>\n",
       "      <td>6.00</td>\n",
       "    </tr>\n",
       "    <tr>\n",
       "      <th>3</th>\n",
       "      <td>aeschynite</td>\n",
       "      <td>NaN</td>\n",
       "      <td>NaN</td>\n",
       "      <td>5.50</td>\n",
       "    </tr>\n",
       "    <tr>\n",
       "      <th>4</th>\n",
       "      <td>agate</td>\n",
       "      <td>NaN</td>\n",
       "      <td>Agates are earth stones. Overall, agates are g...</td>\n",
       "      <td>NaN</td>\n",
       "    </tr>\n",
       "  </tbody>\n",
       "</table>\n",
       "</div>"
      ],
      "text/plain": [
       "        stone chakra                                        description  \\\n",
       "0  actinolite    NaN                                                NaN   \n",
       "1     adamite    NaN                                                NaN   \n",
       "2    aegirine    NaN                                                NaN   \n",
       "3  aeschynite    NaN                                                NaN   \n",
       "4       agate    NaN  Agates are earth stones. Overall, agates are g...   \n",
       "\n",
       "   hardness  \n",
       "0      5.75  \n",
       "1      3.50  \n",
       "2      6.00  \n",
       "3      5.50  \n",
       "4       NaN  "
      ]
     },
     "execution_count": 33,
     "metadata": {},
     "output_type": "execute_result"
    }
   ],
   "source": [
    "print(df_full.shape)\n",
    "df_full.head()"
   ]
  },
  {
   "cell_type": "markdown",
   "metadata": {},
   "source": [
    "### Physical Descriptions"
   ]
  },
  {
   "cell_type": "code",
   "execution_count": 56,
   "metadata": {},
   "outputs": [
    {
     "data": {
      "text/plain": [
       "(96, 2)"
      ]
     },
     "execution_count": 56,
     "metadata": {},
     "output_type": "execute_result"
    }
   ],
   "source": [
    "# Data from: https://beadage.net/gemstones\n",
    "fname = \"data/output/phys_desc.csv\"\n",
    "phys_desc = pd.read_csv(fname, sep=\",\")\n",
    "phys_desc.shape"
   ]
  },
  {
   "cell_type": "code",
   "execution_count": 53,
   "metadata": {},
   "outputs": [],
   "source": [
    "df_final = df_full.merge(phys_desc, on=\"stone\", how=\"outer\").sort_values('stone').reset_index(drop=True)"
   ]
  },
  {
   "cell_type": "code",
   "execution_count": 55,
   "metadata": {},
   "outputs": [
    {
     "name": "stdout",
     "output_type": "stream",
     "text": [
      "(414, 5)\n"
     ]
    },
    {
     "data": {
      "text/html": [
       "<div>\n",
       "<style scoped>\n",
       "    .dataframe tbody tr th:only-of-type {\n",
       "        vertical-align: middle;\n",
       "    }\n",
       "\n",
       "    .dataframe tbody tr th {\n",
       "        vertical-align: top;\n",
       "    }\n",
       "\n",
       "    .dataframe thead th {\n",
       "        text-align: right;\n",
       "    }\n",
       "</style>\n",
       "<table border=\"1\" class=\"dataframe\">\n",
       "  <thead>\n",
       "    <tr style=\"text-align: right;\">\n",
       "      <th></th>\n",
       "      <th>stone</th>\n",
       "      <th>chakra</th>\n",
       "      <th>description</th>\n",
       "      <th>hardness</th>\n",
       "      <th>physical_description</th>\n",
       "    </tr>\n",
       "  </thead>\n",
       "  <tbody>\n",
       "    <tr>\n",
       "      <th>0</th>\n",
       "      <td>actinolite</td>\n",
       "      <td>NaN</td>\n",
       "      <td>NaN</td>\n",
       "      <td>5.75</td>\n",
       "      <td>NaN</td>\n",
       "    </tr>\n",
       "    <tr>\n",
       "      <th>1</th>\n",
       "      <td>adamite</td>\n",
       "      <td>NaN</td>\n",
       "      <td>NaN</td>\n",
       "      <td>3.50</td>\n",
       "      <td>NaN</td>\n",
       "    </tr>\n",
       "    <tr>\n",
       "      <th>2</th>\n",
       "      <td>aegirine</td>\n",
       "      <td>NaN</td>\n",
       "      <td>NaN</td>\n",
       "      <td>6.00</td>\n",
       "      <td>NaN</td>\n",
       "    </tr>\n",
       "    <tr>\n",
       "      <th>3</th>\n",
       "      <td>aeschynite</td>\n",
       "      <td>NaN</td>\n",
       "      <td>NaN</td>\n",
       "      <td>5.50</td>\n",
       "      <td>NaN</td>\n",
       "    </tr>\n",
       "    <tr>\n",
       "      <th>4</th>\n",
       "      <td>agate</td>\n",
       "      <td>NaN</td>\n",
       "      <td>Agates are earth stones. Overall, agates are g...</td>\n",
       "      <td>NaN</td>\n",
       "      <td>NaN</td>\n",
       "    </tr>\n",
       "  </tbody>\n",
       "</table>\n",
       "</div>"
      ],
      "text/plain": [
       "        stone chakra                                        description  \\\n",
       "0  actinolite    NaN                                                NaN   \n",
       "1     adamite    NaN                                                NaN   \n",
       "2    aegirine    NaN                                                NaN   \n",
       "3  aeschynite    NaN                                                NaN   \n",
       "4       agate    NaN  Agates are earth stones. Overall, agates are g...   \n",
       "\n",
       "   hardness physical_description  \n",
       "0      5.75                  NaN  \n",
       "1      3.50                  NaN  \n",
       "2      6.00                  NaN  \n",
       "3      5.50                  NaN  \n",
       "4       NaN                  NaN  "
      ]
     },
     "execution_count": 55,
     "metadata": {},
     "output_type": "execute_result"
    }
   ],
   "source": [
    "print(df_final.shape)\n",
    "df_final.head()"
   ]
  },
  {
   "cell_type": "markdown",
   "metadata": {},
   "source": [
    "### Export Data for App\n",
    "Columns: Name\tChakra\tHardness\tPhysical_Description\tMetaphysical_Properties\n",
    "\n",
    "Total records: 414\n",
    "    \n",
    "    w/ chakra: 53\n",
    "    w/ metaphys desc: 100\n",
    "    w/ hardness: 346\n",
    "    w/ physical desc: 96"
   ]
  },
  {
   "cell_type": "code",
   "execution_count": 58,
   "metadata": {},
   "outputs": [],
   "source": [
    "fname = \"data/output/crystals.csv\"\n",
    "df_final.to_csv(fname, index=False)"
   ]
  },
  {
   "cell_type": "code",
   "execution_count": 60,
   "metadata": {},
   "outputs": [
    {
     "data": {
      "text/plain": [
       "Index(['stone', 'chakra', 'description', 'hardness', 'physical_description'], dtype='object')"
      ]
     },
     "execution_count": 60,
     "metadata": {},
     "output_type": "execute_result"
    }
   ],
   "source": [
    "df_final.columns"
   ]
  },
  {
   "cell_type": "code",
   "execution_count": 83,
   "metadata": {},
   "outputs": [],
   "source": [
    "# Get only crystals with at least two data points\n",
    "counts = df_final[['stone', 'chakra', 'description', 'hardness', 'physical_description']].count(axis=1)\n",
    "df_w_data = df_final.loc[counts.index[counts >= 3]].reset_index(drop=True)"
   ]
  },
  {
   "cell_type": "code",
   "execution_count": 85,
   "metadata": {},
   "outputs": [
    {
     "name": "stdout",
     "output_type": "stream",
     "text": [
      "(97, 5)\n"
     ]
    },
    {
     "data": {
      "text/html": [
       "<div>\n",
       "<style scoped>\n",
       "    .dataframe tbody tr th:only-of-type {\n",
       "        vertical-align: middle;\n",
       "    }\n",
       "\n",
       "    .dataframe tbody tr th {\n",
       "        vertical-align: top;\n",
       "    }\n",
       "\n",
       "    .dataframe thead th {\n",
       "        text-align: right;\n",
       "    }\n",
       "</style>\n",
       "<table border=\"1\" class=\"dataframe\">\n",
       "  <thead>\n",
       "    <tr style=\"text-align: right;\">\n",
       "      <th></th>\n",
       "      <th>stone</th>\n",
       "      <th>chakra</th>\n",
       "      <th>description</th>\n",
       "      <th>hardness</th>\n",
       "      <th>physical_description</th>\n",
       "    </tr>\n",
       "  </thead>\n",
       "  <tbody>\n",
       "    <tr>\n",
       "      <th>0</th>\n",
       "      <td>alexandrite</td>\n",
       "      <td>NaN</td>\n",
       "      <td>Rather than just bring you joy, Alexandrite he...</td>\n",
       "      <td>8.50</td>\n",
       "      <td>Alexandrite is a member of the chrysoberyl fam...</td>\n",
       "    </tr>\n",
       "    <tr>\n",
       "      <th>1</th>\n",
       "      <td>amazonite</td>\n",
       "      <td>[4, 5]</td>\n",
       "      <td>Amazonite helps to harmonize apparently differ...</td>\n",
       "      <td>6.25</td>\n",
       "      <td>Amazonite is a brilliant green to bluish-green...</td>\n",
       "    </tr>\n",
       "    <tr>\n",
       "      <th>2</th>\n",
       "      <td>amber</td>\n",
       "      <td>NaN</td>\n",
       "      <td>Amber carries the energy of the sun, warmth, a...</td>\n",
       "      <td>2.25</td>\n",
       "      <td>Amber is fossilized sap or pitch from trees, a...</td>\n",
       "    </tr>\n",
       "    <tr>\n",
       "      <th>3</th>\n",
       "      <td>amethyst</td>\n",
       "      <td>[6, 7]</td>\n",
       "      <td>Amethyst is a powerhouse stone. It vibrates at...</td>\n",
       "      <td>7.00</td>\n",
       "      <td>Amethyst is a purple variety of quartz crystal...</td>\n",
       "    </tr>\n",
       "    <tr>\n",
       "      <th>4</th>\n",
       "      <td>ametrine</td>\n",
       "      <td>[6]</td>\n",
       "      <td>Ametrine combines the healing properties of Am...</td>\n",
       "      <td>NaN</td>\n",
       "      <td>Ametrine is a combination of amethyst and citr...</td>\n",
       "    </tr>\n",
       "  </tbody>\n",
       "</table>\n",
       "</div>"
      ],
      "text/plain": [
       "         stone  chakra                                        description  \\\n",
       "0  alexandrite     NaN  Rather than just bring you joy, Alexandrite he...   \n",
       "1    amazonite  [4, 5]  Amazonite helps to harmonize apparently differ...   \n",
       "2        amber     NaN  Amber carries the energy of the sun, warmth, a...   \n",
       "3     amethyst  [6, 7]  Amethyst is a powerhouse stone. It vibrates at...   \n",
       "4     ametrine     [6]  Ametrine combines the healing properties of Am...   \n",
       "\n",
       "   hardness                               physical_description  \n",
       "0      8.50  Alexandrite is a member of the chrysoberyl fam...  \n",
       "1      6.25  Amazonite is a brilliant green to bluish-green...  \n",
       "2      2.25  Amber is fossilized sap or pitch from trees, a...  \n",
       "3      7.00  Amethyst is a purple variety of quartz crystal...  \n",
       "4       NaN  Ametrine is a combination of amethyst and citr...  "
      ]
     },
     "execution_count": 85,
     "metadata": {},
     "output_type": "execute_result"
    }
   ],
   "source": [
    "print(df_w_data.shape)\n",
    "df_w_data.head()"
   ]
  },
  {
   "cell_type": "code",
   "execution_count": 86,
   "metadata": {},
   "outputs": [],
   "source": [
    "fname = \"data/output/crystals97.csv\"\n",
    "df_w_data.to_csv(fname, index=False)"
   ]
  },
  {
   "cell_type": "code",
   "execution_count": null,
   "metadata": {},
   "outputs": [],
   "source": []
  },
  {
   "cell_type": "code",
   "execution_count": null,
   "metadata": {},
   "outputs": [],
   "source": []
  },
  {
   "cell_type": "code",
   "execution_count": null,
   "metadata": {},
   "outputs": [],
   "source": []
  },
  {
   "cell_type": "markdown",
   "metadata": {},
   "source": [
    "### Information Gathering"
   ]
  },
  {
   "cell_type": "code",
   "execution_count": 51,
   "metadata": {},
   "outputs": [],
   "source": [
    "def get_chakra_deetz(i):\n",
    "    s = \"Chakra #\" + str(i)\n",
    "    s += \", also known as the \"\n",
    "    s += chakras_ref.iloc[i-1, 0] # name\n",
    "    s += \" chakra. It is located at the \"\n",
    "    s += chakras_ref.iloc[i-1, 2] # location\n",
    "    s += '. In Sanskrit it is refered to as \"' + chakras_ref.iloc[i-1, 3]\n",
    "    s += '\" and its mantra is: ' + chakras_ref.iloc[i-1,5]\n",
    "    s += \". Its color is \" + chakras_ref.iloc[i-1,4]\n",
    "    s += \" and it's related to \"\n",
    "    for x in chakras_ref.Properties[i-1]:\n",
    "        s += x + \", \"\n",
    "    s += \"etc... Some crystals associated with this chakra include: \"\n",
    "    crystals = chakras_ref.iloc[i-1, 7]\n",
    "    s += crystals[0] + \", \"\n",
    "    for c in crystals[1:-1]:\n",
    "        s += c + \", \"\n",
    "    s += \"and \" + crystals[-1] + \".\"\n",
    "    return s\n",
    "#print(get_chakra_deetz(7))"
   ]
  },
  {
   "cell_type": "code",
   "execution_count": 54,
   "metadata": {},
   "outputs": [],
   "source": [
    "def get_description(stone):\n",
    "    return df_full[df_full.stone == stone].description.item()\n",
    "#print(get_description(\"emerald\"))"
   ]
  },
  {
   "cell_type": "code",
   "execution_count": 93,
   "metadata": {},
   "outputs": [],
   "source": [
    "def get_stones(find_chak):\n",
    "    d = chakras_full[[find_chak in x for x in chakras_full.chakra]]\n",
    "    d = d[['stone', 'chakra', 'description', 'hardness']]\n",
    "    d.reset_index(drop=True, inplace=True)\n",
    "    for _, x in d.iterrows():\n",
    "        print(x[0])\n",
    "        if pd.notna(x[3]):\n",
    "            print(\"hardness: \" + str(x[3]))\n",
    "        print(x[2])\n",
    "        print(\"\\n\")\n",
    "    return d\n",
    "#f = get_stones(4)"
   ]
  },
  {
   "cell_type": "code",
   "execution_count": 42,
   "metadata": {
    "collapsed": true
   },
   "outputs": [
    {
     "ename": "NameError",
     "evalue": "name 'chakras_full' is not defined",
     "output_type": "error",
     "traceback": [
      "\u001b[1;31m---------------------------------------------------------------------------\u001b[0m",
      "\u001b[1;31mNameError\u001b[0m                                 Traceback (most recent call last)",
      "\u001b[1;32m<ipython-input-42-083564a0584a>\u001b[0m in \u001b[0;36m<module>\u001b[1;34m\u001b[0m\n\u001b[0;32m      5\u001b[0m     \u001b[0ms\u001b[0m \u001b[1;33m+=\u001b[0m \u001b[0mstr\u001b[0m\u001b[1;33m(\u001b[0m\u001b[0mi\u001b[0m\u001b[1;33m.\u001b[0m\u001b[0mchakra\u001b[0m\u001b[1;33m.\u001b[0m\u001b[0mitem\u001b[0m\u001b[1;33m(\u001b[0m\u001b[1;33m)\u001b[0m\u001b[1;33m)\u001b[0m \u001b[1;33m+\u001b[0m \u001b[1;34m\"\\n\"\u001b[0m\u001b[1;33m\u001b[0m\u001b[1;33m\u001b[0m\u001b[0m\n\u001b[0;32m      6\u001b[0m     \u001b[1;32mreturn\u001b[0m\u001b[1;33m(\u001b[0m\u001b[0ms\u001b[0m\u001b[1;33m)\u001b[0m\u001b[1;33m\u001b[0m\u001b[1;33m\u001b[0m\u001b[0m\n\u001b[1;32m----> 7\u001b[1;33m \u001b[0mprint\u001b[0m\u001b[1;33m(\u001b[0m\u001b[0mget_facts\u001b[0m\u001b[1;33m(\u001b[0m\u001b[1;34m\"peridot\"\u001b[0m\u001b[1;33m)\u001b[0m\u001b[1;33m)\u001b[0m\u001b[1;33m\u001b[0m\u001b[1;33m\u001b[0m\u001b[0m\n\u001b[0m",
      "\u001b[1;32m<ipython-input-42-083564a0584a>\u001b[0m in \u001b[0;36mget_facts\u001b[1;34m(stone)\u001b[0m\n\u001b[0;32m      1\u001b[0m \u001b[1;32mdef\u001b[0m \u001b[0mget_facts\u001b[0m\u001b[1;33m(\u001b[0m\u001b[0mstone\u001b[0m\u001b[1;33m)\u001b[0m\u001b[1;33m:\u001b[0m\u001b[1;33m\u001b[0m\u001b[1;33m\u001b[0m\u001b[0m\n\u001b[0;32m      2\u001b[0m     \u001b[0ms\u001b[0m \u001b[1;33m=\u001b[0m \u001b[0mstone\u001b[0m \u001b[1;33m+\u001b[0m \u001b[1;34m\"\\nDescription: \"\u001b[0m\u001b[1;33m\u001b[0m\u001b[1;33m\u001b[0m\u001b[0m\n\u001b[1;32m----> 3\u001b[1;33m     \u001b[0mi\u001b[0m \u001b[1;33m=\u001b[0m \u001b[0mchakras_full\u001b[0m\u001b[1;33m[\u001b[0m\u001b[0mchakras_full\u001b[0m\u001b[1;33m.\u001b[0m\u001b[0mstone\u001b[0m \u001b[1;33m==\u001b[0m \u001b[0mstone\u001b[0m\u001b[1;33m]\u001b[0m\u001b[1;33m\u001b[0m\u001b[1;33m\u001b[0m\u001b[0m\n\u001b[0m\u001b[0;32m      4\u001b[0m     \u001b[0ms\u001b[0m \u001b[1;33m+=\u001b[0m \u001b[0mi\u001b[0m\u001b[1;33m.\u001b[0m\u001b[0mdescription\u001b[0m\u001b[1;33m.\u001b[0m\u001b[0mitem\u001b[0m\u001b[1;33m(\u001b[0m\u001b[1;33m)\u001b[0m \u001b[1;33m+\u001b[0m \u001b[1;34m\"\\nChakras: \"\u001b[0m\u001b[1;33m\u001b[0m\u001b[1;33m\u001b[0m\u001b[0m\n\u001b[0;32m      5\u001b[0m     \u001b[0ms\u001b[0m \u001b[1;33m+=\u001b[0m \u001b[0mstr\u001b[0m\u001b[1;33m(\u001b[0m\u001b[0mi\u001b[0m\u001b[1;33m.\u001b[0m\u001b[0mchakra\u001b[0m\u001b[1;33m.\u001b[0m\u001b[0mitem\u001b[0m\u001b[1;33m(\u001b[0m\u001b[1;33m)\u001b[0m\u001b[1;33m)\u001b[0m \u001b[1;33m+\u001b[0m \u001b[1;34m\"\\n\"\u001b[0m\u001b[1;33m\u001b[0m\u001b[1;33m\u001b[0m\u001b[0m\n",
      "\u001b[1;31mNameError\u001b[0m: name 'chakras_full' is not defined"
     ]
    }
   ],
   "source": [
    "def get_facts(stone):\n",
    "    s = stone + \"\\nDescription: \"\n",
    "    i = chakras_full[chakras_full.stone == stone]\n",
    "    s += i.description.item() + \"\\nChakras: \"\n",
    "    s += str(i.chakra.item()) + \"\\n\"\n",
    "    return(s)\n",
    "print(get_facts(\"peridot\"))"
   ]
  },
  {
   "cell_type": "markdown",
   "metadata": {},
   "source": [
    "### Future Considerations"
   ]
  },
  {
   "cell_type": "code",
   "execution_count": null,
   "metadata": {},
   "outputs": [],
   "source": [
    "# TODO: Get pricing at least 2 labels of expensive or inexpensive\n",
    "# TODO: Get Zodiac -- scrape: https://www.allcrystal.com/category/chakra/\n",
    "# Scrape emotions data from: https://thecrystalcouncil.com/crystals\n",
    "# Planet, Element"
   ]
  }
 ],
 "metadata": {
  "kernelspec": {
   "display_name": "Python 3",
   "language": "python",
   "name": "python3"
  },
  "language_info": {
   "codemirror_mode": {
    "name": "ipython",
    "version": 3
   },
   "file_extension": ".py",
   "mimetype": "text/x-python",
   "name": "python",
   "nbconvert_exporter": "python",
   "pygments_lexer": "ipython3",
   "version": "3.8.5"
  }
 },
 "nbformat": 4,
 "nbformat_minor": 4
}
